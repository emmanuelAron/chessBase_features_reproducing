{
 "cells": [
  {
   "cell_type": "code",
   "execution_count": null,
   "metadata": {
    "vscode": {
     "languageId": "plaintext"
    }
   },
   "outputs": [],
   "source": [
    "import chess.pgn\n",
    "import pandas as pd\n",
    "\n",
    "# Open the PGN file\n",
    "pgn_file = open(\"games_1990.pgn\")\n",
    "\n",
    "# Initialize a list to store the games\n",
    "games_data = []\n",
    "\n",
    "while True:\n",
    "    game = chess.pgn.read_game(pgn_file)\n",
    "    if game is None:\n",
    "        break\n",
    "\n",
    "    # Extract game information including ELO\n",
    "    game_data = {\n",
    "        \"White\": game.headers.get(\"White\", None),\n",
    "        \"Black\": game.headers.get(\"Black\", None),\n",
    "        \"Result\": game.headers.get(\"Result\", None),\n",
    "        \"Event\": game.headers.get(\"Event\", None),\n",
    "        \"Date\": game.headers.get(\"Date\", None),\n",
    "        \"Moves\": \" \".join([move.uci() for move in game.mainline_moves()]),  # Converts moves to UCI format for consistency\n",
    "        \"WhiteElo\": game.headers.get(\"WhiteElo\", None),\n",
    "        \"BlackElo\": game.headers.get(\"BlackElo\", None)\n",
    "    }\n",
    "    games_data.append(game_data)\n",
    "\n",
    "# Convert to DataFrame\n",
    "df = pd.DataFrame(games_data)\n",
    "\n",
    "# Display the first 20 rows for verification\n",
    "print(df.head(20))\n",
    "\n",
    "# Display the number of rows\n",
    "print('Number of rows:', len(df))\n",
    "\n",
    "# Data Cleaning\n",
    "# Drop the first row if needed\n",
    "df.drop(index=0, inplace=True)\n",
    "\n",
    "# Remove rows containing \"kampflos\" or \"een\" in the \"Moves\" column\n",
    "mask = df[\"Moves\"].str.contains(\"kampflos\", na=False) | df[\"Moves\"].str.contains(\"een\", na=False)\n",
    "df = df[~mask]\n",
    "\n",
    "# Convert 'Date' column to datetime, handle invalid dates by setting errors='coerce'\n",
    "df['Date'] = pd.to_datetime(df['Date'], format='%Y.%m.%d', errors='coerce')\n",
    "\n",
    "# Replace NaT in 'Date' with \"1990-01-01\" as a default date if needed\n",
    "df['Date'] = df['Date'].fillna(pd.to_datetime(\"1990-01-01\"))\n",
    "\n",
    "# Convert 'WhiteElo' and 'BlackElo' columns to numeric, handling any missing values\n",
    "df['WhiteElo'] = pd.to_numeric(df['WhiteElo'], errors='coerce')\n",
    "df['BlackElo'] = pd.to_numeric(df['BlackElo'], errors='coerce')\n",
    "\n",
    "# Check column types after cleaning\n",
    "print(df.dtypes)\n",
    "\n",
    "# Convert to CSV\n",
    "df.to_csv(\"games_1990_with_ELO_try.csv\", index=False)\n"
   ]
  }
 ],
 "metadata": {
  "language_info": {
   "name": "python"
  }
 },
 "nbformat": 4,
 "nbformat_minor": 2
}
