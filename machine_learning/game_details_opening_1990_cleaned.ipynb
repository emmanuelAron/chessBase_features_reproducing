{
 "cells": [
  {
   "cell_type": "code",
   "execution_count": null,
   "metadata": {},
   "outputs": [],
   "source": [
    "import pandas as pd\n",
    "import re\n",
    "\n",
    "# Load the CSV file\n",
    "df = pd.read_csv(\"game_details_opening_1990.csv\")\n",
    "\n",
    "# Clean the 'Moves' column by removing everything within `{}` and the braces\n",
    "df['Moves'] = df['Moves'].apply(lambda x: re.sub(r\"\\{.*?\\}\", \"\", str(x)).strip())\n",
    "\n",
    "# Save the cleaned data to a new CSV file or overwrite the existing one\n",
    "df.to_csv(\"game_details_opening_1990_cleaned.csv\", index=False)"
   ]
  }
 ],
 "metadata": {
  "kernelspec": {
   "display_name": "Python 3",
   "language": "python",
   "name": "python3"
  },
  "language_info": {
   "name": "python",
   "version": "3.12.1"
  }
 },
 "nbformat": 4,
 "nbformat_minor": 2
}
